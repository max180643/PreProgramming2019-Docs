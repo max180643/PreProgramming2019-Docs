{
 "cells": [
  {
   "cell_type": "markdown",
   "metadata": {},
   "source": [
    "# PEP 8 -- Style Guide for Python Code\n",
    "## PEP 8 คืออะไร ?\n",
    "<p>PEP 8 คือ standard ของการเขียนภาษา Python เพื่อให้โค้ดดูมีความเป็นระเบียบ อ่านง่าย ซึ่ง eJudge จะตรวจวัดคุณภาพของโค้ดโดยยึดตามมาตรฐานนี้แหละ</p><br>\n",
    "<i><strong>ทำไมต้องทำตาม PEP 8 หละพี่ ไม่ทำตามโค้ดมันก็รันได้เหมือนกันอะ</strong></i><br>\n",
    "งั้นน้องลองดูนะว่าโค้ด 2 ตัวนี้ อันไหนมันน่าอ่านกว่ากัน"
   ]
  },
  {
   "cell_type": "markdown",
   "metadata": {},
   "source": [
    "Code แรก\n",
    "```python\n",
    "\"\"\" saidfjsdlfjdsf \"\"\"\n",
    "def qwerty():\n",
    "    \"\"\" zxcvbn \"\"\"\n",
    "    aaa  = input()\n",
    "    bbb =   input()\n",
    "    print (aaa+ bbb)\n",
    "```"
   ]
  },
  {
   "cell_type": "markdown",
   "metadata": {},
   "source": [
    "Code สอง\n",
    "```python\n",
    "\"\"\" String Connector Program \"\"\"\n",
    "def str_connect():\n",
    "    \"\"\" Print str1 connected with str2 \"\"\"\n",
    "    str1 = input()\n",
    "    str2 = input()\n",
    "    print(num1 + num2)\n",
    "```"
   ]
  },
  {
   "cell_type": "markdown",
   "metadata": {},
   "source": [
    "Code แรกหากมองผ่านๆ อาจะเดาว่ามันคือโปรแกรมบวกเลข (เพราะเห็นเครื่องหมาย +) ซึ่งจริงๆ แล้วมันคือโปรแกรมต่อ String สองตัวเข้าด้วยกัน ในขณะที่ Code ที่สองนั้น เราอาจแค่ Docstring บรรทัดแรกก็รู้แล้วว่ามันคือโปรแกรมสำหรับต่อ String"
   ]
  },
  {
   "cell_type": "markdown",
   "metadata": {},
   "source": [
    "ถ้าเราเป็นคนเขียนโค้ดแรกเอง เราก็คงรู้แหละว่ามันคือโปรแกรมอะไร ส่งให้คนอื่นก็มองออกได้ไม่ยากหรอก แต่น้องลองนึกดูนะว่าถ้าสมมติน้องเขียนโปรแกรมขนาดใหญ่มากๆ หลายร้อยหลายพันบรรทัดโดยเขียนแบบแรกแล้วส่งให้คนอื่นดูอะ น้องคิดว่าเขาจะอ่านรู้เรื่องไหม พี่ว่าคงปวดหัวเลิกอ่านก่อนแน่<br>**เพราะฉะนั้นเรามาเขียนโค้ดให้น่าอ่าน โดยใช้หลัก PEP 8 กันเถอะ**\n",
    "___"
   ]
  },
  {
   "cell_type": "markdown",
   "metadata": {},
   "source": [
    "## การตั้งชื่อตัวแปรและ Function\n",
    "### ในมาตรฐาน PEP8 นั้น เราจะยึดหลักการตั้งชื่อตัวแปรดังนี้\n",
    "- จะต้องเป็นพิมพ์เล็กทั้งหมด\n",
    "- จะต้องยาวอย่างน้อย 3 ตัวอักษร\n",
    "- จะต้องประกาศตัวแปลใน Function\n",
    "- ห้ามเป็นตัวอักษรเดียวกัน (aaa, bbb เป็นต้น)\n",
    "- ห้ามตรงกับ Built-in Function\n",
    "\n",
    "#### ตัวอย่างที่ควรทำ\n",
    "- num1\n",
    "- str1\n",
    "- name\n",
    "- text\n",
    "\n",
    "#### ตัวอย่างที่ไม่ควร\n",
    "- Num (ไม่ใช่ตัวพิมพ์เล็กทั้งหมด)\n",
    "- zzz (ตัวอักษรซ้ำกัน)\n",
    "- print (ซ้ำกับ Built-in Function)\n",
    "\n",
    "\n",
    "## Docstring\n",
    "คือคำอธิบายของ Module และ Function ซึ่ง<strong>เราต้องเขียนตลอด</strong>และ<strong>ควรเขียนให้อ่านรู้เรื่อง</strong>\n",
    "\n",
    "#### ตัวอย่างที่ควรทำ\n",
    "```python\n",
    "\"\"\" String Connector Program \"\"\"\n",
    "def str_connect():\n",
    "    \"\"\" Print str1 connected with str2 \"\"\"\n",
    "    str1 = input()\n",
    "    str2 = input()\n",
    "    print(num1 + num2)\n",
    "```\n",
    "\n",
    "#### ตัวอย่างที่ไม่ควรทำ\n",
    "```python\n",
    "\"\"\" saidfjsdlfjdsf \"\"\"\n",
    "def qwerty():\n",
    "    \"\"\" zxcvbn \"\"\"\n",
    "    aaa  = input()\n",
    "    bbb =   input()\n",
    "    print (aaa+ bbb)\n",
    "```\n",
    "\n",
    "## Indentation\n",
    "ในภาษา Programming อื่นๆ ส่วนมากจะแบ่งส่วนของแต่ละคำสั่งด้วย { } (ปีกกา) แต่สำหรับภาษา Python นั้นเราจะแบ่งด้วย Indent (ย่อหน้า) ซึ่งตามหลัก PEP 8 เราจะย่อหน้าด้วย Space 4 ช่อง ซึ่ง text editor หลายๆ ตัว มักจะตั้งค่าเริ่มต้นของการ Indent เป็น Tab\n",
    "> ในส่วนนี้พี่มีนได้โพสเกี่ยวกับวิธีการตั้งค่าในโปรแกรม Sublime Text เอาไว้แล้วตามลิ้งนี้เลยจ้า https://www.facebook.com/groups/423585488407886/permalink/450873092345792/"
   ]
  }
 ],
 "metadata": {
  "kernelspec": {
   "display_name": "Python 3",
   "language": "python",
   "name": "python3"
  },
  "language_info": {
   "codemirror_mode": {
    "name": "ipython",
    "version": 3
   },
   "file_extension": ".py",
   "mimetype": "text/x-python",
   "name": "python",
   "nbconvert_exporter": "python",
   "pygments_lexer": "ipython3",
   "version": "3.6.8"
  }
 },
 "nbformat": 4,
 "nbformat_minor": 2
}
