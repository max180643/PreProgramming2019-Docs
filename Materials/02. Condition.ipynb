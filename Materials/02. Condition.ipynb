{
 "cells": [
  {
   "cell_type": "markdown",
   "metadata": {},
   "source": [
    "# ITKMITL Pre-Programming 2019 - Week 2: Summary (Part I)\n",
    "\n",
    "## Unit 3: Condition\n",
    "\n",
    "### Lesson 3.1: Comparison (Relational) Operators ตัวดำเนินการเปรียบเทียบ\n",
    "\n",
    "#### Greater than (>) : Return <span style=\"color: green;\">True</span> if left operand is greater than right operand. Otherwise return <span style=\"color: red;\">False</span>\n",
    "#### มากกว่า (>) : Return <span style=\"color: green;\">True</span>หาก Operand ทางด้านซ้ายมีค่ามากกว่า Operand ทางขวา. หากไม่ใช่ return <span style=\"color: red;\">False</span>\n",
    "\n",
    "##### ex."
   ]
  },
  {
   "cell_type": "code",
   "execution_count": 1,
   "metadata": {
    "scrolled": false
   },
   "outputs": [
    {
     "name": "stdout",
     "output_type": "stream",
     "text": [
      "True\n",
      "False\n"
     ]
    }
   ],
   "source": [
    "print(124 > 97)\n",
    "print(97 > 124)"
   ]
  },
  {
   "cell_type": "markdown",
   "metadata": {},
   "source": [
    "#### Less than (<) : Return <span style=\"color: green;\">True</span> if left operand is less than right operand. Otherwise return <span style=\"color: red;\">False</span>\n",
    "#### น้อยกว่า (<) : Return <span style=\"color: green;\">True</span> หาก Operand ทางด้านซ้ายมีค่าน้อยกว่า Operand ทางขวา. หากไม่ใช่ return <span style=\"color: red;\">False</span>\n",
    "\n",
    "##### ex."
   ]
  },
  {
   "cell_type": "code",
   "execution_count": 2,
   "metadata": {},
   "outputs": [
    {
     "name": "stdout",
     "output_type": "stream",
     "text": [
      "True\n",
      "False\n"
     ]
    }
   ],
   "source": [
    "print(97 < 124)\n",
    "print(124 < 97)"
   ]
  },
  {
   "cell_type": "markdown",
   "metadata": {},
   "source": [
    "#### Equal to (==) : Return <i style=\"color: green;\">True</i> if left operand is equal to right operand. Otherwise return <i style=\"color: red;\">False</i>\n",
    "#### เท่ากับ (==) : Return <i style=\"color: green;\">True</i> หาก Operand 2 ตัว มีค่าเท่ากัน หากไม่ใช่จะ return <i style=\"color: red;\">False</i>\n",
    "##### ex."
   ]
  },
  {
   "cell_type": "code",
   "execution_count": 3,
   "metadata": {},
   "outputs": [
    {
     "name": "stdout",
     "output_type": "stream",
     "text": [
      "True\n",
      "False\n"
     ]
    }
   ],
   "source": [
    "print(123 == 123)\n",
    "print(123 == '123')"
   ]
  },
  {
   "cell_type": "markdown",
   "metadata": {},
   "source": [
    "#### Not equal to (!=) : Return <i style=\"color: green;\">True</i> if left operand is <i style=\"text-decoration: underline;\">not</i> equal to right operand. Otherwise return <i style=\"color: red;\">False</i>\n",
    "#### ไม่เท่ากับ (!=) : Return <i style=\"color: green;\">True</i> หาก Operand ทั้ง 2 ตัว มีค่า <i style=\"text-decoration: underline;\">ไม่</i> เท่ากัน. หากไม่ใช่จะ return <i style=\"color: red;\">False</i>\n",
    "##### ex."
   ]
  },
  {
   "cell_type": "code",
   "execution_count": 4,
   "metadata": {},
   "outputs": [
    {
     "name": "stdout",
     "output_type": "stream",
     "text": [
      "True\n",
      "False\n"
     ]
    }
   ],
   "source": [
    "print(123 != '123')\n",
    "print(123 != 123)"
   ]
  },
  {
   "cell_type": "markdown",
   "metadata": {},
   "source": [
    "#### Greater than or equal to (>=) : Return <i style=\"color: green;\">True</i> if left operand is greater than or equal to right operand. Otherwise return <i style=\"color: red;\">False</i>\n",
    "#### มากกว่าหรือเท่ากับ (>=) : Return <i style=\"color: green;\">True</i> หาก Operand ทางซ้ายมีค่ามากกว่าหรือเท่ากับ Operand ทางขวา. หากไม่ จะ return <i style=\"color: red;\">False</i>\n",
    "##### ex."
   ]
  },
  {
   "cell_type": "code",
   "execution_count": 5,
   "metadata": {},
   "outputs": [
    {
     "name": "stdout",
     "output_type": "stream",
     "text": [
      "True\n",
      "True\n",
      "False\n"
     ]
    }
   ],
   "source": [
    "print(124 >= 123)\n",
    "print(124 >= 124)\n",
    "print(124 >= 125)"
   ]
  },
  {
   "cell_type": "markdown",
   "metadata": {},
   "source": [
    "#### Less than or equal to (<=) : Return <i style=\"color: green;\">True</i> if left operand is less than or equal to right operand. Otherwise return <i style=\"color: red;\">False</i>\n",
    "#### น้อยกว่าหรือเท่ากับ (<=) : Return <i style=\"color: green;\">True</i> หาก Operand ทางซ้ายมีค่าน้อยกว่าหรือเท่ากับ Operand ทางขวา. หากไม่ จะ return <i style=\"color: red;\">False</i>\n",
    "##### ex."
   ]
  },
  {
   "cell_type": "code",
   "execution_count": 6,
   "metadata": {},
   "outputs": [
    {
     "name": "stdout",
     "output_type": "stream",
     "text": [
      "True\n",
      "True\n",
      "False\n"
     ]
    }
   ],
   "source": [
    "print(124 <= 125)\n",
    "print(124 <= 124)\n",
    "print(124 <= 123)"
   ]
  },
  {
   "cell_type": "markdown",
   "metadata": {},
   "source": [
    "### Lesson 3.2: Logical Operators ตัวดำเนินการทางตรรกศาสตร์\n",
    "#### <i>and</i> operator : Return <i style=\"color: green;\">True</i> if all the operands are <i style=\"color: green;\">True</i>. Otherwise return <i style=\"color: red;\">False</i>\n",
    "#### ตัวดำเนินการ <i>และ</i>  : Return <i style=\"color: green;\">True</i> หาก Operand ทุกตัวเป็น  <i style=\"color: green;\">True</i>. หากไม่ จะ return <i style=\"color: red;\">False</i>\n",
    "##### ex."
   ]
  },
  {
   "cell_type": "code",
   "execution_count": 7,
   "metadata": {},
   "outputs": [],
   "source": [
    "var1 = 97 >= 94    # True\n",
    "var2 = 97 == 94    # False"
   ]
  },
  {
   "cell_type": "code",
   "execution_count": 8,
   "metadata": {},
   "outputs": [
    {
     "name": "stdout",
     "output_type": "stream",
     "text": [
      "True\n",
      "False\n",
      "False\n",
      "False\n"
     ]
    }
   ],
   "source": [
    "print(var1 and True) # True and True -> True\n",
    "print(var1 and var2) # True and False -> False\n",
    "print(var2 and var1) # False and True -> False\n",
    "print(var2 and False) # False and False -> False"
   ]
  },
  {
   "cell_type": "markdown",
   "metadata": {},
   "source": [
    "#### <i>or</i> operator : Return <i style=\"color: green;\">True</i> if any the operands are <i style=\"color: green;\">True</i>. Otherwise return <i style=\"color: red;\">False</i>.\n",
    "#### ตัวดำเนินการ <i>หรือ</i>  : Return <i style=\"color: green;\">True</i> หาก มี Operand ใดๆ มีค่าความจริงเป็น <i style=\"color: green;\">True</i>. หากไม่ใช่ จะ return <i style=\"color: red;\">False</i>.\n",
    "##### ex."
   ]
  },
  {
   "cell_type": "code",
   "execution_count": 9,
   "metadata": {},
   "outputs": [
    {
     "name": "stdout",
     "output_type": "stream",
     "text": [
      "True\n",
      "True\n",
      "True\n",
      "False\n"
     ]
    }
   ],
   "source": [
    "print(var1 or True) # True or True -> True\n",
    "print(var1 or var2) # True or False -> True\n",
    "print(var2 or var1) # False or True -> True\n",
    "print(var2 or False) # False or False -> False"
   ]
  },
  {
   "cell_type": "markdown",
   "metadata": {},
   "source": [
    "#### <i>not</i> operator : Return <i style=\"color: red;\">Negation</i> of the operands.\n",
    "#### <i>not</i> operator : Return <i style=\"color: red;\">นิเสธ</i> ของ operands.\n",
    "##### ex."
   ]
  },
  {
   "cell_type": "code",
   "execution_count": 10,
   "metadata": {},
   "outputs": [
    {
     "name": "stdout",
     "output_type": "stream",
     "text": [
      "False\n",
      "True\n"
     ]
    }
   ],
   "source": [
    "print(not var1) # not True -> False\n",
    "print(not var2) # not False -> True"
   ]
  },
  {
   "cell_type": "markdown",
   "metadata": {},
   "source": [
    "### Lesson 3.3 : Membership Operator ตัวดำเนินการทางสมาชิกภาพ\n",
    "#### <i>in</i> operator : Return <i style=\"color: green;\">True</i> if right operand <i style=\"text-decoration: underline;\">contains</i> the left operand.\n",
    "#### <i>in</i> operator : Return <i style=\"color: green;\">True</i> หาก Operand ทางขวา <i style=\"text-decoration: underline;\">มีสมาชิก</i> เป็น Operand ทางซ้าย.\n",
    "##### ex."
   ]
  },
  {
   "cell_type": "code",
   "execution_count": 11,
   "metadata": {},
   "outputs": [
    {
     "name": "stdout",
     "output_type": "stream",
     "text": [
      "True\n",
      "False\n"
     ]
    }
   ],
   "source": [
    "print('Hell' in 'Hello') # True\n",
    "print('hell' in 'Hello') # False"
   ]
  }
 ],
 "metadata": {
  "kernelspec": {
   "display_name": "Python 3",
   "language": "python",
   "name": "python3"
  },
  "language_info": {
   "codemirror_mode": {
    "name": "ipython",
    "version": 3
   },
   "file_extension": ".py",
   "mimetype": "text/x-python",
   "name": "python",
   "nbconvert_exporter": "python",
   "pygments_lexer": "ipython3",
   "version": "3.6.8"
  }
 },
 "nbformat": 4,
 "nbformat_minor": 2
}
