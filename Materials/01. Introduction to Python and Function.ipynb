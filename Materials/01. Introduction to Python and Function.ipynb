{
 "cells": [
  {
   "cell_type": "markdown",
   "metadata": {},
   "source": [
    "# ITKMITL Pre-Programming 2019 - Week 1: Summary\n",
    "\n",
    "## Unit 1: Introduction to Python\n",
    "\n",
    "### Lesson 1.1: Data types\n",
    "\n",
    "#### int (Integer / จำนวนเต็ม)"
   ]
  },
  {
   "cell_type": "code",
   "execution_count": 1,
   "metadata": {},
   "outputs": [
    {
     "name": "stdout",
     "output_type": "stream",
     "text": [
      "<class 'int'>\n",
      "<class 'int'>\n"
     ]
    }
   ],
   "source": [
    "print(type(124))\n",
    "print(type(-97))"
   ]
  },
  {
   "cell_type": "markdown",
   "metadata": {},
   "source": [
    "#### float (Real / จำนวนเต็ม)"
   ]
  },
  {
   "cell_type": "code",
   "execution_count": 2,
   "metadata": {},
   "outputs": [
    {
     "name": "stdout",
     "output_type": "stream",
     "text": [
      "<class 'float'>\n",
      "<class 'float'>\n"
     ]
    }
   ],
   "source": [
    "print(type(3.14))\n",
    "print(type(-12.5))"
   ]
  },
  {
   "cell_type": "markdown",
   "metadata": {},
   "source": [
    "#### str (String / ข้อความ)"
   ]
  },
  {
   "cell_type": "code",
   "execution_count": 3,
   "metadata": {},
   "outputs": [
    {
     "name": "stdout",
     "output_type": "stream",
     "text": [
      "<class 'str'>\n",
      "<class 'str'>\n"
     ]
    }
   ],
   "source": [
    "print(type(\"KMITL\"))\n",
    "print(type('IT17'))"
   ]
  },
  {
   "cell_type": "markdown",
   "metadata": {},
   "source": [
    "#### bool (Boolean / ค่าความจริง)"
   ]
  },
  {
   "cell_type": "code",
   "execution_count": 4,
   "metadata": {},
   "outputs": [
    {
     "name": "stdout",
     "output_type": "stream",
     "text": [
      "<class 'bool'>\n",
      "<class 'bool'>\n"
     ]
    }
   ],
   "source": [
    "print(type(True))\n",
    "print(type(False))"
   ]
  },
  {
   "cell_type": "markdown",
   "metadata": {},
   "source": [
    "### Lesson 1.2: Basic I/O\n",
    "#### Basic Input / Output\n",
    "##### Ex. 1 (Output)"
   ]
  },
  {
   "cell_type": "code",
   "execution_count": 5,
   "metadata": {},
   "outputs": [
    {
     "name": "stdout",
     "output_type": "stream",
     "text": [
      "Python is EZ\n"
     ]
    }
   ],
   "source": [
    "print('Python is EZ')"
   ]
  },
  {
   "cell_type": "markdown",
   "metadata": {},
   "source": [
    "##### Ex. 2 (Input / Output)"
   ]
  },
  {
   "cell_type": "code",
   "execution_count": 6,
   "metadata": {},
   "outputs": [
    {
     "name": "stdout",
     "output_type": "stream",
     "text": [
      "Nj is Sleepy\n",
      "Output: Nj is Sleepy\n"
     ]
    }
   ],
   "source": [
    "var = input()\n",
    "print('Output: %s' %var)"
   ]
  },
  {
   "cell_type": "markdown",
   "metadata": {},
   "source": [
    "##### Ex. 3 (Multiple arguments in print())"
   ]
  },
  {
   "cell_type": "code",
   "execution_count": 7,
   "metadata": {},
   "outputs": [
    {
     "name": "stdout",
     "output_type": "stream",
     "text": [
      "7 3.14 Pi\n"
     ]
    }
   ],
   "source": [
    "# value in sep parameter of print() is ' ' (Whitespace) by default\n",
    "var1 = 7\n",
    "var2 = 3.14\n",
    "var3 = 'Pi'\n",
    "print(var1, var2, var3)"
   ]
  },
  {
   "cell_type": "markdown",
   "metadata": {},
   "source": [
    "##### Ex. 4 (sep parameter)"
   ]
  },
  {
   "cell_type": "code",
   "execution_count": 8,
   "metadata": {},
   "outputs": [
    {
     "name": "stdout",
     "output_type": "stream",
     "text": [
      "Nj_is_Sleepy\n"
     ]
    }
   ],
   "source": [
    "# now we set value in sep parameter of print() to '_'\n",
    "var1 = 'Nj'\n",
    "var2 = \"is\"\n",
    "var3 = 'Sleepy'\n",
    "print(var1, var2, var3, sep='_')"
   ]
  },
  {
   "cell_type": "markdown",
   "metadata": {},
   "source": [
    "##### Ex. 5 (end parameter)"
   ]
  },
  {
   "cell_type": "code",
   "execution_count": 9,
   "metadata": {},
   "outputs": [
    {
     "name": "stdout",
     "output_type": "stream",
     "text": [
      "Nj\n",
      "is\n",
      "Sleepy\n"
     ]
    }
   ],
   "source": [
    "# value in end parameter of print() is '\\n' by default\n",
    "var1 = 'Nj'\n",
    "var2 = 'is'\n",
    "var3 = 'Sleepy'\n",
    "print(var1)\n",
    "print(var2)\n",
    "print(var3)"
   ]
  },
  {
   "cell_type": "code",
   "execution_count": 10,
   "metadata": {},
   "outputs": [
    {
     "name": "stdout",
     "output_type": "stream",
     "text": [
      "Nj123is\n",
      "Sleepy\n"
     ]
    }
   ],
   "source": [
    "# now we set value in end parameter of 1st print() to '123'\n",
    "var1 = 'Nj'\n",
    "var2 = 'is'\n",
    "var3 = 'Sleepy'\n",
    "print(var1, end='123')\n",
    "print(var2)\n",
    "print(var3)"
   ]
  },
  {
   "cell_type": "markdown",
   "metadata": {},
   "source": [
    "### Lesson 1.2: Type Conversion"
   ]
  },
  {
   "cell_type": "code",
   "execution_count": 11,
   "metadata": {},
   "outputs": [],
   "source": [
    "var = \"-97\"\n",
    "var = int(var)        # Now var is 97\n",
    "var = float(var)      # Now var is 97.0\n",
    "var = str(var)        # Now var is '97.0'"
   ]
  },
  {
   "cell_type": "markdown",
   "metadata": {},
   "source": [
    "### Lesson 1.3: String Format"
   ]
  },
  {
   "cell_type": "code",
   "execution_count": 12,
   "metadata": {},
   "outputs": [
    {
     "name": "stdout",
     "output_type": "stream",
     "text": [
      "17\n",
      "3.142800\n",
      "3.14\n",
      "3.1428\n",
      "3.1\n"
     ]
    }
   ],
   "source": [
    "# %d (int)\n",
    "int_num = 17\n",
    "print(\"%d\" %(int_num))    # 17\n",
    "\n",
    "# %f (float)\n",
    "float_num = 3.1428\n",
    "print(\"%f\" %(float_num))      # 3.142800 (String Format float is 6 decimal places by default)\n",
    "print(\"%.2f\" %(float_num))    # 3.14 (Now it's 2 decimal places)\n",
    "\n",
    "# %s (str)\n",
    "str_num = \"3.1428\"\n",
    "print(\"%s\" %(str_num))        # '3.1428' (Display string normally)\n",
    "print(\"%.3s\" %(str_num))      # '3.1' (Display 3 Characters <Starting from the left of the String>)"
   ]
  },
  {
   "cell_type": "markdown",
   "metadata": {},
   "source": [
    "### Lesson 1.4 : Basic Operator and PEMDAS\n",
    "#### Arithmetic Operator"
   ]
  },
  {
   "cell_type": "code",
   "execution_count": 13,
   "metadata": {},
   "outputs": [
    {
     "name": "stdout",
     "output_type": "stream",
     "text": [
      "7\n",
      "3\n",
      "10\n",
      "2.5\n",
      "2\n",
      "1\n",
      "25\n"
     ]
    }
   ],
   "source": [
    "print(5 + 2) # 7 (Addition)\n",
    "print(5 - 2) # 3 (Subtraction)\n",
    "print(5 * 2) # 10 (Multiplication)\n",
    "print(5 / 2) # 2.5 (Division)\n",
    "print(5 // 2) # 7 (Floor Division / หารไม่เอาเศษ)\n",
    "print(5 % 2) # 1 (Modulo / หารหาเศษ)\n",
    "print(5 ** 2) # 25 (Exponentiation / ยกกำลัง)"
   ]
  },
  {
   "cell_type": "markdown",
   "metadata": {},
   "source": [
    "#### Augmented Assignment Operator\n",
    "<img src=\"https://i0.wp.com/188.166.96.119/wp-content/uploads/2015/08/python-augmented-assignment-operators.jpg\">"
   ]
  },
  {
   "cell_type": "markdown",
   "metadata": {},
   "source": [
    "#### PEMDAS\n",
    "การดำเนินการทางคณิตศาสตร์ใน Python นั้น จะมีลำดับการทำงานดังนี้\n",
    "1. P (Parentheses / วงเล็บ)\n",
    "2. E (Exponents / ยกกำลัง)\n",
    "3. MD (Multiplication and Division / คูณและหาร)\n",
    "    - หากมีทั้งคูณและหารอยู่ใน Expression เดียวกัน ให้ทำการคิดจาก<strong>ขวาไปซ้าย</strong>\n",
    "4. AS (Addition and Subtraction / บวกและลบ)\n",
    "    - หากมีทั้งบวกและลบอยู่ใน Expression เดียวกับ ให้ทำการคิดจาก<strong>ขวาไปซ้าย</strong>\n",
    "\n",
    "<img src=\"http://www.algebra-class.com/images/order-of-operations-3.jpg\">"
   ]
  },
  {
   "cell_type": "markdown",
   "metadata": {},
   "source": [
    "### Lesson 1.5: String Operation"
   ]
  },
  {
   "cell_type": "markdown",
   "metadata": {},
   "source": [
    "#### String Concatenation"
   ]
  },
  {
   "cell_type": "code",
   "execution_count": 14,
   "metadata": {},
   "outputs": [
    {
     "name": "stdout",
     "output_type": "stream",
     "text": [
      "P'Nj is Happy!\n"
     ]
    }
   ],
   "source": [
    "var1 = \"Nj\"\n",
    "var2 = \"is\"\n",
    "var3 = \"Happy\"\n",
    "print(\"P'\" + var1 + ' ' + var2 + ' ' + var3 + '!')"
   ]
  },
  {
   "cell_type": "markdown",
   "metadata": {},
   "source": [
    "#### String Multiplication"
   ]
  },
  {
   "cell_type": "code",
   "execution_count": 15,
   "metadata": {},
   "outputs": [
    {
     "name": "stdout",
     "output_type": "stream",
     "text": [
      "EZEZEZ\n"
     ]
    }
   ],
   "source": [
    "var = \"EZ\"\n",
    "print(var * 3)"
   ]
  },
  {
   "cell_type": "markdown",
   "metadata": {},
   "source": [
    "---\n",
    "## Unit 2: Function\n",
    "### Lesson 2.1: Parameters and Arguments\n",
    "```python\n",
    "\"\"\" Module Docstring \"\"\"\n",
    "def function_name(parameter):    # Function defining\n",
    "    \"\"\" Function Docstring \"\"\"\n",
    "    # statement(s)\n",
    "\n",
    "function_name(argument)          # Function calling\n",
    "```\n",
    "<strong>Parameter</strong> คือ ตัวแปรภายใน Function ที่จะทำการรับค่ามาจาก <i>Argument</i><br>\n",
    "<strong>Argument</strong> คือ ค่าที่จะทำการส่งไปยัง <i>Parameter</i> เมื่อมีการเรียกใช้ Function"
   ]
  },
  {
   "cell_type": "markdown",
   "metadata": {},
   "source": [
    "### Lesson 2.2: User-defined Function\n",
    "#### ex. 1 (Void Function)"
   ]
  },
  {
   "cell_type": "code",
   "execution_count": 16,
   "metadata": {},
   "outputs": [
    {
     "name": "stdout",
     "output_type": "stream",
     "text": [
      "Python is EZPython is EZ\n",
      "Nj is SleepyNj is Sleepy\n",
      "eiei\n",
      "eieieiei\n"
     ]
    }
   ],
   "source": [
    "\"\"\" ITKMITL Pre-Programming 2019 - Sample Code \"\"\"\n",
    "def echo_echo(text):\n",
    "    \"\"\" Display text 2 times using print function \"\"\"\n",
    "    print(text * 2)\n",
    "\n",
    "echo_echo('Python is EZ') # 'Python is EZPython is EZ'\n",
    "var = 'Nj is Sleepy'\n",
    "echo_echo(var)            # 'Nj is SleepyNj is Sleppy'\n",
    "echo_echo(input())        # 'eieieiei'"
   ]
  },
  {
   "cell_type": "markdown",
   "metadata": {},
   "source": [
    "#### ex. 2 (Fruitful Function)"
   ]
  },
  {
   "cell_type": "code",
   "execution_count": 17,
   "metadata": {},
   "outputs": [
    {
     "name": "stdout",
     "output_type": "stream",
     "text": [
      "Now the value is 5\n",
      "Now the value is 6\n"
     ]
    }
   ],
   "source": [
    "\"\"\" ITKMITL Pre-Programming 2019 - Sample Code \"\"\"\n",
    "def main():\n",
    "    \"\"\" Main Function \"\"\"\n",
    "    num = 5\n",
    "    display(num)\n",
    "    num = plus_one(num)    # Now 5 becomes 6\n",
    "    display(num)\n",
    "\n",
    "def plus_one(num):\n",
    "    \"\"\" Return num + 1 \"\"\"\n",
    "    return num + 1\n",
    "\n",
    "def display(val):\n",
    "    \"\"\" Display value on the screen \"\"\"\n",
    "    print(\"Now the value is %d\" %(val))\n",
    "    \n",
    "main()"
   ]
  },
  {
   "cell_type": "markdown",
   "metadata": {},
   "source": [
    "### Lesson 2.3: Built-in Function"
   ]
  },
  {
   "cell_type": "code",
   "execution_count": 18,
   "metadata": {},
   "outputs": [
    {
     "name": "stdout",
     "output_type": "stream",
     "text": [
      "Help on built-in function print in module builtins:\n",
      "\n",
      "print(...)\n",
      "    print(value, ..., sep=' ', end='\\n', file=sys.stdout, flush=False)\n",
      "    \n",
      "    Prints the values to a stream, or to sys.stdout by default.\n",
      "    Optional keyword arguments:\n",
      "    file:  a file-like object (stream); defaults to the current sys.stdout.\n",
      "    sep:   string inserted between values, default a space.\n",
      "    end:   string appended after the last value, default a newline.\n",
      "    flush: whether to forcibly flush the stream.\n",
      "\n"
     ]
    }
   ],
   "source": [
    "# help(anything) <best function !!>\n",
    "help(print)"
   ]
  },
  {
   "cell_type": "code",
   "execution_count": 19,
   "metadata": {},
   "outputs": [
    {
     "name": "stdout",
     "output_type": "stream",
     "text": [
      "5\n"
     ]
    }
   ],
   "source": [
    "# len(str) <Return length of the String>\n",
    "print(len('Hello'))"
   ]
  },
  {
   "cell_type": "code",
   "execution_count": 20,
   "metadata": {},
   "outputs": [
    {
     "name": "stdout",
     "output_type": "stream",
     "text": [
      "<class 'str'>\n"
     ]
    }
   ],
   "source": [
    "# type(anything) <Return type of the argument>\n",
    "print(type('Test'))"
   ]
  },
  {
   "cell_type": "code",
   "execution_count": 21,
   "metadata": {},
   "outputs": [
    {
     "name": "stdout",
     "output_type": "stream",
     "text": [
      "15\n"
     ]
    }
   ],
   "source": [
    "# max(arg1, arg2, ......) <Return the highest value among the arguments>\n",
    "print(max(-5, 15, 10.5))"
   ]
  },
  {
   "cell_type": "code",
   "execution_count": 22,
   "metadata": {},
   "outputs": [
    {
     "name": "stdout",
     "output_type": "stream",
     "text": [
      "-5\n"
     ]
    }
   ],
   "source": [
    "# min(arg1, arg2, ......) <Return the lowest value among the arguments>\n",
    "print(min(-5, 15, 10.5))"
   ]
  },
  {
   "cell_type": "code",
   "execution_count": 23,
   "metadata": {},
   "outputs": [
    {
     "name": "stdout",
     "output_type": "stream",
     "text": [
      "5.5\n",
      "10\n"
     ]
    }
   ],
   "source": [
    "# abs(any number) <Return the Absolute value (Positive) of the argument>\n",
    "print(abs(-5.5))\n",
    "print(abs(10))"
   ]
  },
  {
   "cell_type": "markdown",
   "metadata": {},
   "source": [
    "### Lesson 2.4: Math Module\n",
    "#### How to import\n",
    "##### ex. 1"
   ]
  },
  {
   "cell_type": "code",
   "execution_count": 24,
   "metadata": {},
   "outputs": [
    {
     "name": "stdout",
     "output_type": "stream",
     "text": [
      "3.141592653589793\n"
     ]
    }
   ],
   "source": [
    "# import <module>\n",
    "import math\n",
    "print(math.pi)"
   ]
  },
  {
   "cell_type": "markdown",
   "metadata": {},
   "source": [
    "##### ex. 2"
   ]
  },
  {
   "cell_type": "code",
   "execution_count": 25,
   "metadata": {},
   "outputs": [
    {
     "name": "stdout",
     "output_type": "stream",
     "text": [
      "3.141592653589793\n"
     ]
    }
   ],
   "source": [
    "# import <module> as <custom_name>\n",
    "import math as m\n",
    "print(m.pi)"
   ]
  },
  {
   "cell_type": "markdown",
   "metadata": {},
   "source": [
    "##### ex. 3"
   ]
  },
  {
   "cell_type": "code",
   "execution_count": 26,
   "metadata": {},
   "outputs": [
    {
     "name": "stdout",
     "output_type": "stream",
     "text": [
      "3.141592653589793\n"
     ]
    }
   ],
   "source": [
    "# from <module> import <class / function>\n",
    "from math import pi\n",
    "print(pi)"
   ]
  },
  {
   "cell_type": "code",
   "execution_count": 27,
   "metadata": {},
   "outputs": [
    {
     "name": "stdout",
     "output_type": "stream",
     "text": [
      "3.141592653589793\n"
     ]
    }
   ],
   "source": [
    "# from <module> import <class / function> as <custom_name>\n",
    "from math import pi as p\n",
    "print(p)"
   ]
  },
  {
   "cell_type": "markdown",
   "metadata": {},
   "source": [
    "#### Mathematical Function"
   ]
  },
  {
   "cell_type": "code",
   "execution_count": 28,
   "metadata": {},
   "outputs": [],
   "source": [
    "from math import * # Import every functions in math module"
   ]
  },
  {
   "cell_type": "code",
   "execution_count": 29,
   "metadata": {},
   "outputs": [
    {
     "name": "stdout",
     "output_type": "stream",
     "text": [
      "6\n",
      "2\n"
     ]
    }
   ],
   "source": [
    "# ceil(any number) <ปัดเศษขึ้น>\n",
    "print(ceil(5.1))\n",
    "print(ceil(2))"
   ]
  },
  {
   "cell_type": "code",
   "execution_count": 30,
   "metadata": {},
   "outputs": [
    {
     "name": "stdout",
     "output_type": "stream",
     "text": [
      "5\n",
      "2\n"
     ]
    }
   ],
   "source": [
    "# floor(any number) <ปัดเศษลง>\n",
    "print(floor(5.1))\n",
    "print(floor(2))"
   ]
  },
  {
   "cell_type": "code",
   "execution_count": 31,
   "metadata": {},
   "outputs": [
    {
     "name": "stdout",
     "output_type": "stream",
     "text": [
      "3.141592653589793\n"
     ]
    }
   ],
   "source": [
    "# pi\n",
    "print(pi)"
   ]
  },
  {
   "cell_type": "code",
   "execution_count": 32,
   "metadata": {},
   "outputs": [
    {
     "name": "stdout",
     "output_type": "stream",
     "text": [
      "6.283185307179586\n"
     ]
    }
   ],
   "source": [
    "# radians(degree)      <Convert degree to radian then return>\n",
    "print(radians(360))    # This return 2π which means it returns 2 * (~3.14)"
   ]
  },
  {
   "cell_type": "code",
   "execution_count": 33,
   "metadata": {},
   "outputs": [
    {
     "name": "stdout",
     "output_type": "stream",
     "text": [
      "359.99511225864757\n"
     ]
    }
   ],
   "source": [
    "# degrees(radians)     <Convert radians to degree>\n",
    "print(degrees(6.2831)) # ~360 Degree"
   ]
  },
  {
   "cell_type": "code",
   "execution_count": 34,
   "metadata": {},
   "outputs": [
    {
     "name": "stdout",
     "output_type": "stream",
     "text": [
      "0.49999999999999994\n"
     ]
    }
   ],
   "source": [
    "# sin(radians)          <We need to convert degree to radian first>\n",
    "print(sin(radians(30))) # Convert 30 degree to radian first"
   ]
  },
  {
   "cell_type": "code",
   "execution_count": 35,
   "metadata": {},
   "outputs": [
    {
     "name": "stdout",
     "output_type": "stream",
     "text": [
      "0.5000000000000001\n"
     ]
    }
   ],
   "source": [
    "# cos(radians)          <Same as above>\n",
    "print(cos(radians(60))) # Same as above"
   ]
  },
  {
   "cell_type": "code",
   "execution_count": 36,
   "metadata": {},
   "outputs": [
    {
     "name": "stdout",
     "output_type": "stream",
     "text": [
      "0.9999999999999999\n"
     ]
    }
   ],
   "source": [
    "# tan(radians)          <Same as above>\n",
    "print(tan(radians(45))) # Same as above"
   ]
  },
  {
   "cell_type": "code",
   "execution_count": null,
   "metadata": {},
   "outputs": [],
   "source": []
  }
 ],
 "metadata": {
  "kernelspec": {
   "display_name": "Python 3",
   "language": "python",
   "name": "python3"
  },
  "language_info": {
   "codemirror_mode": {
    "name": "ipython",
    "version": 3
   },
   "file_extension": ".py",
   "mimetype": "text/x-python",
   "name": "python",
   "nbconvert_exporter": "python",
   "pygments_lexer": "ipython3",
   "version": "3.6.8"
  }
 },
 "nbformat": 4,
 "nbformat_minor": 2
}
